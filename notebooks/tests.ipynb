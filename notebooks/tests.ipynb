{
 "cells": [
  {
   "cell_type": "code",
   "execution_count": 1,
   "metadata": {},
   "outputs": [],
   "source": [
    "from sklearn.metrics import confusion_matrix\n",
    "from sklearn.model_selection import StratifiedKFold,KFold\n",
    "from sklearn.preprocessing import Normalizer\n",
    "from sklearn.utils import shuffle\n",
    "from sklearn.linear_model import LogisticRegression, SGDClassifier\n",
    "from sklearn.preprocessing import PolynomialFeatures\n",
    "from xgboost import XGBClassifier\n",
    "from sklearn.metrics import f1_score, recall_score\n",
    "import pandas as pd\n",
    "import numpy as np\n",
    "\n",
    "from sklearn.preprocessing import StandardScaler\n",
    "from sklearn.preprocessing import PolynomialFeatures\n",
    "\n",
    "import sys\n",
    "sys.path.append('..')\n",
    "from utils.ScoreFunction import score_function, other_score_function\n",
    "\n",
    "random_seed = 42\n",
    "np.random.seed(random_seed)\n",
    "pd.options.mode.chained_assignment = None\n",
    "\n",
    "selected_features = [\n",
    "    \"trustLevel\",\n",
    "    \"trustLevel quantityModifications\",\n",
    "    \"trustLevel withoutRegisPerPosition\",\n",
    "    \"totalScanTimeInSeconds quantityModifications\",\n",
    "    \"lineItemVoids^2\",\n",
    "    \"lineItemVoids valuePerSecond\",\n",
    "    \"lineItemVoids totalScanned\",\n",
    "    \"scansWithoutRegistration avgValuePerScan\",\n",
    "    \"valuePerSecond avgValuePerScan withoutRegisPerPosition\",\n",
    "    \"lineItemVoidsPerPosition totalScanTimeInSecondsStdNorm^2\",\n",
    "    \"lineItemVoidsPerPosition totalScanTimeInSecondsStdNorm totalScanned\",\n",
    "    \"lineItemVoidsPerPosition totalScanTimeInSecondsStdNorm quantityModsPerPosition\"\n",
    "]\n",
    "\n",
    "def dmc_profit(y_true, y_pred):\n",
    "    y_true = np.array(y_true)\n",
    "    y_pred = np.array(y_pred)\n",
    "    TP = sum((y_true == 1) & (y_pred == 1))\n",
    "    #TN = sum((cvres['true'] == 0) & (cvres['cvpredict'] == 0))\n",
    "    FP = sum((y_true == 0) & (y_pred == 1))\n",
    "    FN = sum((y_true == 1) & (y_pred == 0))\n",
    "    profit = 5*TP -25*FP -5*FN\n",
    "    return profit"
   ]
  },
  {
   "cell_type": "markdown",
   "metadata": {},
   "source": [
    "## Импорт данных"
   ]
  },
  {
   "cell_type": "code",
   "execution_count": 2,
   "metadata": {},
   "outputs": [],
   "source": [
    "data = pd.read_csv(\"../data/train.csv\",sep='|')\n",
    "X_test = pd.read_csv(\"../data/test.csv\",sep='|')\n",
    "X = data.drop([\"fraud\"],axis=1)\n",
    "y = data[\"fraud\"]\n",
    "\n",
    "THRESHOLDS = {'scannedLineItemsPerSecond':1, 'valuePerSecond':1, 'lineItemVoidsPerPosition':1}\n",
    "#Вот это ухудшает скор на валидации, НО выравнивает распределение трейна и теста по данным фичам\n",
    "for x in list(THRESHOLDS.keys()):\n",
    "    X[x] = X[x].clip(lower=X[x].quantile(0.01),upper=X[x].quantile(0.97))\n",
    "    X_test[x] = X_test[x].clip(lower=X_test[x].quantile(0.01),upper=X_test[x].quantile(0.97))\n",
    "    \n",
    "    \n",
    "X['totalScanTimeInSecondsStdNorm'] = (X['totalScanTimeInSeconds'] - X['totalScanTimeInSeconds'].mean())/X['totalScanTimeInSeconds'].std()\n",
    "\n",
    "X['totalScanned'] = X['scannedLineItemsPerSecond']*X['totalScanTimeInSeconds']\n",
    "X['avgTimePerScan'] = 1/X['scannedLineItemsPerSecond']\n",
    "X['avgValuePerScan'] = X['avgTimePerScan']*X['valuePerSecond']\n",
    "X['withoutRegisPerPosition'] = X['scansWithoutRegistration']*X['totalScanned']\n",
    "X['quantityModsPerPosition'] = X['quantityModifications']/X['totalScanned']\n",
    "\n",
    "X_test['totalScanTimeInSecondsStdNorm'] = (X_test['totalScanTimeInSeconds'] - X_test['totalScanTimeInSeconds'].mean())/X_test['totalScanTimeInSeconds'].std()\n",
    "\n",
    "X_test['totalScanned'] = X_test['scannedLineItemsPerSecond']*X_test['totalScanTimeInSeconds']\n",
    "X_test['avgTimePerScan'] = 1/X_test['scannedLineItemsPerSecond']\n",
    "X_test['avgValuePerScan'] = X_test['avgTimePerScan']*X_test['valuePerSecond']\n",
    "X_test['withoutRegisPerPosition'] = X_test['scansWithoutRegistration']*X_test['totalScanned']\n",
    "X_test['quantityModsPerPosition'] = X_test['quantityModifications']/X_test['totalScanned']\n",
    "\n",
    "cols = list(X.columns)+[1,2]"
   ]
  },
  {
   "cell_type": "markdown",
   "metadata": {},
   "source": [
    "### Polynom features"
   ]
  },
  {
   "cell_type": "code",
   "execution_count": null,
   "metadata": {},
   "outputs": [],
   "source": [
    "# generate features and rescale\n",
    "polyFeatures = PolynomialFeatures(3, interaction_only=False)\n",
    "polyFeatures.fit(X.append(X_test, ignore_index = True))\n",
    "\n",
    "X_poly = polyFeatures.transform(X)\n",
    "X_test_poly = polyFeatures.transform(X_test)\n",
    "\n",
    "# remove the first var because it is the constant term\n",
    "X_poly = X_poly[:,1:]\n",
    "X_test_poly = X_test_poly[:,1:]\n",
    "\n",
    "features = polyFeatures.get_feature_names(input_features=X.columns)[1:]"
   ]
  },
  {
   "cell_type": "code",
   "execution_count": null,
   "metadata": {},
   "outputs": [],
   "source": [
    "X_poly = pd.DataFrame(X_poly, columns=features)\n",
    "X_test_poly = pd.DataFrame(X_test_poly, columns=features)\n",
    "\n",
    "X_tmp = X.copy()\n",
    "X_test_tmp = X_test.copy()\n",
    "\n",
    "for f in selected_features:\n",
    "    X_tmp = pd.concat([X_tmp,pd.Series(X_poly[f])], axis=1)\n",
    "    X_test_tmp = pd.concat([X_test_tmp,pd.Series(X_test_poly[f])], axis=1)"
   ]
  },
  {
   "cell_type": "markdown",
   "metadata": {},
   "source": [
    "### Процесс отбора полиномиальных фичей"
   ]
  },
  {
   "cell_type": "code",
   "execution_count": null,
   "metadata": {},
   "outputs": [],
   "source": [
    "def fast_evaluate(X,y):\n",
    "    X = np.array(X)\n",
    "    y = np.array(y)\n",
    "    score_results = []\n",
    "    skf = StratifiedKFold(n_splits=10, shuffle=True, random_state=random_seed)\n",
    "    for train_index, test_index in skf.split(X, y):\n",
    "        clf = LogisticRegression(random_state=random_seed)\n",
    "        clf.fit(X[train_index], y[train_index])\n",
    "        y_pred = clf.predict(X[test_index])\n",
    "        tn, fp, fn, tp = confusion_matrix(y[test_index], y_pred).ravel()\n",
    "        score_results.append(score_function(tp,fp,fn,tn))\n",
    "    return sum(score_results)"
   ]
  },
  {
   "cell_type": "code",
   "execution_count": null,
   "metadata": {},
   "outputs": [],
   "source": [
    "\"\"\"score = -10000\n",
    "last_score = -10000\n",
    "selected_features = []\n",
    "\n",
    "for f in features:\n",
    "    X_check = pd.concat([X_tmp,pd.Series(X_poly[f])], axis=1)\n",
    "    score = fast_evaluate(X_check, y)\n",
    "   \n",
    "    if score > last_score:\n",
    "        X_tmp = pd.concat([X_tmp,pd.Series(X_poly[f])], axis=1)\n",
    "        selected_features.append(f)\n",
    "        last_score = score    \n",
    "        print(last_score,f)\"\"\""
   ]
  },
  {
   "cell_type": "code",
   "execution_count": null,
   "metadata": {},
   "outputs": [],
   "source": [
    "X_tmp.head()"
   ]
  },
  {
   "cell_type": "code",
   "execution_count": null,
   "metadata": {},
   "outputs": [],
   "source": [
    "X = np.array(X_tmp)\n",
    "y = np.array(y)"
   ]
  },
  {
   "cell_type": "code",
   "execution_count": null,
   "metadata": {},
   "outputs": [],
   "source": [
    "def profit_scorer(y, y_pred):\n",
    "        profit_matrix = {(0,0): 0, (0,1): -5, (1,0): -25, (1,1): 5}\n",
    "        return sum(profit_matrix[(pred, actual)] for pred, actual in zip(y_pred, y))"
   ]
  },
  {
   "cell_type": "markdown",
   "metadata": {},
   "source": [
    "## Создание и обучение лог регрессии, валидация"
   ]
  },
  {
   "cell_type": "code",
   "execution_count": null,
   "metadata": {},
   "outputs": [],
   "source": [
    "nfolds = [3,5,7,10]"
   ]
  },
  {
   "cell_type": "code",
   "execution_count": null,
   "metadata": {},
   "outputs": [],
   "source": [
    "score_results, score2_results, f1_results, recall_results = [], [], [], []"
   ]
  },
  {
   "cell_type": "code",
   "execution_count": null,
   "metadata": {},
   "outputs": [],
   "source": [
    "for n_folds in nfolds:\n",
    "    skf = StratifiedKFold(n_splits=n_folds, shuffle=True, random_state=random_seed)\n",
    "    for train_index, test_index in skf.split(X, y):\n",
    "        clf = LogisticRegression(random_state=random_seed)\n",
    "        clf.fit(X[train_index], y[train_index])\n",
    "        y_pred = clf.predict(X[test_index])\n",
    "        tn, fp, fn, tp = confusion_matrix(y[test_index], y_pred).ravel()\n",
    "        score_results.append(score_function(tp,fp,fn,tn))\n",
    "        score2_results.append(dmc_profit(y[test_index], y_pred))\n",
    "        f1_results.append(f1_score(y[test_index], y_pred))\n",
    "        recall_results.append(recall_score(y[test_index], y_pred))"
   ]
  },
  {
   "cell_type": "code",
   "execution_count": null,
   "metadata": {},
   "outputs": [],
   "source": [
    "(np.array(score_results).mean(),np.array(score2_results).mean(),np.array(f1_results).mean(),np.array(recall_results).mean())"
   ]
  },
  {
   "cell_type": "code",
   "execution_count": null,
   "metadata": {},
   "outputs": [],
   "source": [
    "other_score_function(X,y,LogisticRegression(random_state=random_seed))"
   ]
  },
  {
   "cell_type": "markdown",
   "metadata": {},
   "source": [
    "### Результаты бейзлайна следующие (кросс-валидация на 3,5,7,10 фолдах):\n",
    "### - Наш скор: 41 евро\n",
    "### - Не наш скор: 29 евро\n",
    "### - F1: 0.919\n",
    "### - recall: 0.902\n",
    "\n",
    "### Чтобы модель прошла проверку необходимо побить ВСЕ эти параметры"
   ]
  },
  {
   "cell_type": "code",
   "execution_count": null,
   "metadata": {},
   "outputs": [],
   "source": []
  },
  {
   "cell_type": "code",
   "execution_count": null,
   "metadata": {},
   "outputs": [],
   "source": []
  }
 ],
 "metadata": {
  "kernelspec": {
   "display_name": "Python 3",
   "language": "python",
   "name": "python3"
  },
  "language_info": {
   "codemirror_mode": {
    "name": "ipython",
    "version": 3
   },
   "file_extension": ".py",
   "mimetype": "text/x-python",
   "name": "python",
   "nbconvert_exporter": "python",
   "pygments_lexer": "ipython3",
   "version": "3.6.5"
  }
 },
 "nbformat": 4,
 "nbformat_minor": 2
}
