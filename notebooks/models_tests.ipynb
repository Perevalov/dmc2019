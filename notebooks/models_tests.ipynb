{
 "cells": [
  {
   "cell_type": "code",
   "execution_count": 1,
   "metadata": {},
   "outputs": [],
   "source": [
    "from sklearn.metrics import confusion_matrix\n",
    "from sklearn.model_selection import StratifiedKFold,KFold\n",
    "from sklearn.preprocessing import Normalizer\n",
    "from sklearn.utils import shuffle\n",
    "from sklearn.linear_model import LogisticRegression, SGDClassifier\n",
    "from xgboost import XGBClassifier\n",
    "from sklearn.metrics import f1_score, recall_score\n",
    "import pandas as pd\n",
    "import numpy as np\n",
    "import sys\n",
    "sys.path.append('..')\n",
    "from utils.ScoreFunction import score_function, other_score_function\n",
    "\n",
    "random_seed = 42\n",
    "np.random.seed(random_seed)\n",
    "pd.options.mode.chained_assignment = None"
   ]
  },
  {
   "cell_type": "markdown",
   "metadata": {},
   "source": [
    "## Импорт данных"
   ]
  },
  {
   "cell_type": "code",
   "execution_count": 14,
   "metadata": {},
   "outputs": [],
   "source": [
    "data = pd.read_csv(\"../data/train.csv\",sep='|')\n",
    "test = pd.read_csv(\"../data/test.csv\",sep='|')\n",
    "X = data.drop([\"fraud\"],axis=1)\n",
    "y = data[\"fraud\"]\n",
    "\n",
    "#выбираем такие трешхолды в соотв. со статистиками из data_exploring\n",
    "THRESHOLDS = {'scannedLineItemsPerSecond':1, 'valuePerSecond':1, 'lineItemVoidsPerPosition':1}\n",
    "for f in list(THRESHOLDS.keys()):\n",
    "    indicator = X[f] > THRESHOLDS[f]\n",
    "    X[f].loc[indicator] = X[f].mean()\n",
    "\n",
    "X['totalScanned'] = X['scannedLineItemsPerSecond']*X['totalScanTimeInSeconds']\n",
    "X['avgTimePerScan'] = 1/X['scannedLineItemsPerSecond']\n",
    "X['avgValuePerScan'] = X['avgTimePerScan']*X['valuePerSecond']\n",
    "X['withoutRegisPerPosition'] = X['scansWithoutRegistration']*X['totalScanned']\n",
    "X['quantityModsPerPosition'] = X['quantityModifications']/X['totalScanned']"
   ]
  },
  {
   "cell_type": "code",
   "execution_count": 15,
   "metadata": {},
   "outputs": [
    {
     "data": {
      "text/plain": [
       "PCA(copy=True, iterated_power='auto', n_components=2, random_state=None,\n",
       "  svd_solver='auto', tol=0.0, whiten=False)"
      ]
     },
     "execution_count": 15,
     "metadata": {},
     "output_type": "execute_result"
    }
   ],
   "source": [
    "from sklearn.decomposition import PCA,TruncatedSVD,FactorAnalysis\n",
    "\n",
    "pca = PCA(n_components=2)\n",
    "pca.fit(data.drop([\"fraud\"],axis=1).append(test, ignore_index = True))"
   ]
  },
  {
   "cell_type": "code",
   "execution_count": 16,
   "metadata": {},
   "outputs": [],
   "source": [
    "pca_ = pca.transform(data.drop([\"fraud\"],axis=1))"
   ]
  },
  {
   "cell_type": "code",
   "execution_count": 17,
   "metadata": {},
   "outputs": [],
   "source": [
    "X = np.array(X)\n",
    "X = np.concatenate((X,pca_),axis=1)\n",
    "y = np.array(y)"
   ]
  },
  {
   "cell_type": "markdown",
   "metadata": {},
   "source": [
    "## Создание и обучение линейной регрессии, валидация"
   ]
  },
  {
   "cell_type": "code",
   "execution_count": 18,
   "metadata": {},
   "outputs": [],
   "source": [
    "nfolds = [3, 5, 7, 10]"
   ]
  },
  {
   "cell_type": "code",
   "execution_count": 19,
   "metadata": {},
   "outputs": [],
   "source": [
    "score_results, f1_results, recall_results = [], [], []"
   ]
  },
  {
   "cell_type": "code",
   "execution_count": 20,
   "metadata": {},
   "outputs": [],
   "source": [
    "for n_folds in nfolds:\n",
    "    skf = StratifiedKFold(n_splits=n_folds, shuffle=True, random_state=random_seed)\n",
    "    for train_index, test_index in skf.split(X, y):\n",
    "        clf = LogisticRegression(random_state=random_seed)\n",
    "        clf.fit(X[train_index], y[train_index])\n",
    "        y_pred = clf.predict(X[test_index])\n",
    "        tn, fp, fn, tp = confusion_matrix(y[test_index], y_pred).ravel()\n",
    "        score_results.append(score_function(tp,fp,fn,tn))\n",
    "        f1_results.append(f1_score(y[test_index], y_pred))\n",
    "        recall_results.append(recall_score(y[test_index], y_pred))"
   ]
  },
  {
   "cell_type": "code",
   "execution_count": 21,
   "metadata": {},
   "outputs": [
    {
     "data": {
      "text/plain": [
       "40.0"
      ]
     },
     "execution_count": 21,
     "metadata": {},
     "output_type": "execute_result"
    }
   ],
   "source": [
    "np.array(score_results).mean()"
   ]
  },
  {
   "cell_type": "code",
   "execution_count": 22,
   "metadata": {},
   "outputs": [
    {
     "data": {
      "text/plain": [
       "0.9183750294297465"
      ]
     },
     "execution_count": 22,
     "metadata": {},
     "output_type": "execute_result"
    }
   ],
   "source": [
    "np.array(f1_results).mean()"
   ]
  },
  {
   "cell_type": "code",
   "execution_count": 23,
   "metadata": {},
   "outputs": [
    {
     "data": {
      "text/plain": [
       "0.9025118411000764"
      ]
     },
     "execution_count": 23,
     "metadata": {},
     "output_type": "execute_result"
    }
   ],
   "source": [
    "np.array(recall_results).mean()"
   ]
  },
  {
   "cell_type": "code",
   "execution_count": 24,
   "metadata": {},
   "outputs": [
    {
     "data": {
      "text/plain": [
       "(29.0, False)"
      ]
     },
     "execution_count": 24,
     "metadata": {},
     "output_type": "execute_result"
    }
   ],
   "source": [
    "other_score_function(X,y,LogisticRegression(random_state=random_seed))"
   ]
  },
  {
   "cell_type": "markdown",
   "metadata": {},
   "source": [
    "### Результаты бейзлайна следующие (кросс-валидация на 3,5,7,10 фолдах):\n",
    "### - Наш скор: 41 евро\n",
    "### - Не наш скор: 29 евро\n",
    "### - F1: 0.919\n",
    "### - recall: 0.902\n",
    "\n",
    "### Чтобы модель прошла проверку необходимо побить ВСЕ эти параметры"
   ]
  },
  {
   "cell_type": "code",
   "execution_count": null,
   "metadata": {},
   "outputs": [],
   "source": []
  }
 ],
 "metadata": {
  "kernelspec": {
   "display_name": "Python 3",
   "language": "python",
   "name": "python3"
  },
  "language_info": {
   "codemirror_mode": {
    "name": "ipython",
    "version": 3
   },
   "file_extension": ".py",
   "mimetype": "text/x-python",
   "name": "python",
   "nbconvert_exporter": "python",
   "pygments_lexer": "ipython3",
   "version": "3.6.5"
  }
 },
 "nbformat": 4,
 "nbformat_minor": 2
}
