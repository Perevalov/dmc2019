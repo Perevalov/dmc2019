{
 "cells": [
  {
   "cell_type": "code",
   "execution_count": 1,
   "metadata": {},
   "outputs": [],
   "source": [
    "from sklearn.metrics import confusion_matrix\n",
    "from sklearn.model_selection import StratifiedKFold\n",
    "from sklearn.linear_model import LogisticRegression\n",
    "from sklearn.model_selection import train_test_split\n",
    "from sklearn.metrics import f1_score\n",
    "import pandas as pd\n",
    "import numpy as np\n",
    "import sys\n",
    "sys.path.append('..')\n",
    "from utils.ScoreFunction import score_function\n",
    "\n",
    "random_seed = 42\n",
    "np.random.seed(random_seed)"
   ]
  },
  {
   "cell_type": "markdown",
   "metadata": {},
   "source": [
    "## Пример работы скоринговой функции"
   ]
  },
  {
   "cell_type": "code",
   "execution_count": 2,
   "metadata": {},
   "outputs": [],
   "source": [
    "y_true = [1, 0, 0, 1, 1, 1, 0, 0, 0, 0]\n",
    "y_pred = [1, 1, 1, 0, 0, 0, 0, 0, 0, 0]\n",
    "tn, fp, fn, tp = confusion_matrix(y_true, y_pred).ravel()"
   ]
  },
  {
   "cell_type": "code",
   "execution_count": 3,
   "metadata": {},
   "outputs": [
    {
     "data": {
      "text/plain": [
       "(1, 2, 3, 4)"
      ]
     },
     "execution_count": 3,
     "metadata": {},
     "output_type": "execute_result"
    }
   ],
   "source": [
    "(tp,fp,fn,tn)"
   ]
  },
  {
   "cell_type": "code",
   "execution_count": 4,
   "metadata": {},
   "outputs": [
    {
     "data": {
      "text/plain": [
       "-60"
      ]
     },
     "execution_count": 4,
     "metadata": {},
     "output_type": "execute_result"
    }
   ],
   "source": [
    "score_function(tp,fp,fn,tn)"
   ]
  },
  {
   "cell_type": "markdown",
   "metadata": {},
   "source": [
    "## Импорт данных"
   ]
  },
  {
   "cell_type": "code",
   "execution_count": 235,
   "metadata": {},
   "outputs": [],
   "source": [
    "data = pd.read_csv(\"../data/train.csv\",sep='|')\n",
    "X = data.drop([\"fraud\"],axis=1)\n",
    "y = data[\"fraud\"]\n",
    "\n",
    "X['totalScanned'] = X['scannedLineItemsPerSecond']*X['totalScanTimeInSeconds']\n",
    "X['avgTimePerScan'] = 1/X['scannedLineItemsPerSecond']\n",
    "X['avgValuePerScan'] = X['avgTimePerScan']*X['valuePerSecond']\n",
    "X['withoutRegisPerPosition'] = X['scansWithoutRegistration']*X['totalScanned']\n",
    "X['quantityModsPerPosition'] = X['quantityModifications']/X['totalScanned']\n",
    "\n",
    "#X['lineItemVoidsPerPosition'] = X['lineItemVoids']/X['totalScanned'] #\n",
    "#X['lineItemVoidsPerTotal'] = X['lineItemVoids']/X['grandTotal'] #\n",
    "#X['withoutRegistrationPerTotal'] = X['scansWithoutRegistration']/X['grandTotal'] #\n",
    "#X['quantiModsPerTotal'] = X['quantityModifications']/X['grandTotal'] #\n",
    "#X['lineItemVoidsPerTime'] = X['lineItemVoids']/X['totalScanTimeInSeconds'] #\n",
    "#X['withoutRegistrationPerTime'] = X['scansWithoutRegistration']/X['totalScanTimeInSeconds'] #\n",
    "#X['quantiModesPerTime'] = X['quantityModifications']/X['totalScanTimeInSeconds'] #"
   ]
  },
  {
   "cell_type": "code",
   "execution_count": 236,
   "metadata": {},
   "outputs": [],
   "source": [
    "X = np.array(X)\n",
    "y = np.array(y)"
   ]
  },
  {
   "cell_type": "markdown",
   "metadata": {},
   "source": [
    "## Создание и обучение линейной регрессии, валидация"
   ]
  },
  {
   "cell_type": "code",
   "execution_count": 237,
   "metadata": {},
   "outputs": [],
   "source": [
    "skf = StratifiedKFold(n_splits=5)\n",
    "results = []"
   ]
  },
  {
   "cell_type": "code",
   "execution_count": 238,
   "metadata": {},
   "outputs": [
    {
     "name": "stdout",
     "output_type": "stream",
     "text": [
      "25 0.8780487804878048\n",
      "60 0.9268292682926829\n",
      "80 0.9767441860465117\n",
      "35 0.9047619047619048\n",
      "60 0.888888888888889\n"
     ]
    }
   ],
   "source": [
    "for train_index, test_index in skf.split(X, y):\n",
    "    clf = LogisticRegression(random_state=random_seed)\n",
    "    clf.fit(X[train_index], y[train_index])\n",
    "    y_pred = clf.predict(X[test_index])\n",
    "    tn, fp, fn, tp = confusion_matrix(y[test_index], y_pred).ravel()\n",
    "    results.append(score_function(tp,fp,fn,tn))\n",
    "    print(score_function(tp,fp,fn,tn),f1_score(y[test_index], y_pred))"
   ]
  },
  {
   "cell_type": "code",
   "execution_count": 239,
   "metadata": {},
   "outputs": [
    {
     "data": {
      "text/plain": [
       "52.0"
      ]
     },
     "execution_count": 239,
     "metadata": {},
     "output_type": "execute_result"
    }
   ],
   "source": [
    "np.array(results).mean()"
   ]
  },
  {
   "cell_type": "code",
   "execution_count": null,
   "metadata": {},
   "outputs": [],
   "source": []
  },
  {
   "cell_type": "code",
   "execution_count": null,
   "metadata": {},
   "outputs": [],
   "source": []
  }
 ],
 "metadata": {
  "kernelspec": {
   "display_name": "Python 3",
   "language": "python",
   "name": "python3"
  },
  "language_info": {
   "codemirror_mode": {
    "name": "ipython",
    "version": 3
   },
   "file_extension": ".py",
   "mimetype": "text/x-python",
   "name": "python",
   "nbconvert_exporter": "python",
   "pygments_lexer": "ipython3",
   "version": "3.6.5"
  }
 },
 "nbformat": 4,
 "nbformat_minor": 2
}
